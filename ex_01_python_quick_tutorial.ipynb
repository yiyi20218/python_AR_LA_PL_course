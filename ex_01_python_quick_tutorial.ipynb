{
 "cells": [
  {
   "cell_type": "code",
   "execution_count": 1,
   "id": "95e6115e-8cbe-45a7-94bb-c311c3ff13fa",
   "metadata": {},
   "outputs": [
    {
     "name": "stdout",
     "output_type": "stream",
     "text": [
      "开始作业\n"
     ]
    }
   ],
   "source": [
    "print('开始作业')"
   ]
  },
  {
   "cell_type": "code",
   "execution_count": 16,
   "id": "92eefadf-4180-4ade-bd14-588bf19ecb4a",
   "metadata": {
    "tags": []
   },
   "outputs": [
    {
     "name": "stdout",
     "output_type": "stream",
     "text": [
      "简单运算练习\n",
      "1005010\n",
      "98793434\n",
      "46663890\n",
      "1.0309597523219813\n",
      "3\n",
      "27\n",
      "54386811594150266425181580299320846743336662806793907150859609566325541386074020398675608236209147338068417819027658897021222699493147009499755920185652465371420253973363947972217371003801\n",
      "673\n",
      "True\n",
      "False\n"
     ]
    }
   ],
   "source": [
    "print('简单运算练习')    #print函数，可带汉字，数字\n",
    "print(1000056+4954)     #运算无需带'\n",
    "print(98798879-5445)\n",
    "print(546*85465)\n",
    "print(666/646)\n",
    "print(999//333)\n",
    "print(987%64)\n",
    "print(699**66)\n",
    "print(677&689)\n",
    "print(6==6)\n",
    "print(9<9)\n",
    "#笔记\n",
    "#print函数，可带汉字，数字\n",
    "#运算无需带'"
   ]
  },
  {
   "cell_type": "code",
   "execution_count": 23,
   "id": "92fab9b2-7a75-4d97-8320-caf27b98b677",
   "metadata": {
    "tags": []
   },
   "outputs": [
    {
     "name": "stdout",
     "output_type": "stream",
     "text": [
      "monadic_equation= 11.0\n",
      "monadic_equation=11.00\n",
      "monadic_equation=11.00\n"
     ]
    }
   ],
   "source": [
    "#函数练习\n",
    "x=5.0\n",
    "monadic_equation=2*x+1\n",
    "print(\"monadic_equation=\",monadic_equation)\n",
    "print(\"monadic_equation=%.2f\"%monadic_equation)\n",
    "print(\"monadic_equation={:.2f}\".format(monadic_equation))\n"
   ]
  },
  {
   "cell_type": "code",
   "execution_count": 34,
   "id": "8ba30bcf-96d1-48d7-ae28-0cdb9910d6f5",
   "metadata": {
    "tags": []
   },
   "outputs": [
    {
     "name": "stdout",
     "output_type": "stream",
     "text": [
      "265\n"
     ]
    }
   ],
   "source": [
    "x=66\n",
    "func=4*x+1  #顺序是先定义变量，再进行函数\n",
    "print(func)"
   ]
  },
  {
   "cell_type": "code",
   "execution_count": null,
   "id": "1d564ca9-52a6-4ce3-be29-5f1875035a8c",
   "metadata": {},
   "outputs": [],
   "source": [
    "#变量及赋值\n",
    "'''func=2*x+1 \n",
    "x=5\n",
    "print(func)''' \n",
    "#笔记\n",
    "#当程序逐行从上至下运行时，注意变量定义的顺序，先变量后函数"
   ]
  },
  {
   "cell_type": "code",
   "execution_count": 38,
   "id": "acd656ea-c858-42cf-bd42-f869c5ef4905",
   "metadata": {},
   "outputs": [
    {
     "name": "stdout",
     "output_type": "stream",
     "text": [
      "The longitude of the 西安 coordinate is 108.94, and the latitude is 34.261013.\n"
     ]
    }
   ],
   "source": [
    "#经纬度练习\n",
    "city_name=\"西安\"\n",
    "coordinate_longitude=108.942292\n",
    "coordiante_latitude=34.261013\n",
    "print(\"The longitude of the 西安 coordinate is {lon:.2f}, and the latitude is {lat}.\".format(lon=coordinate_longitude,lat=coordiante_latitude))"
   ]
  },
  {
   "cell_type": "code",
   "execution_count": 33,
   "id": "598458f5-3985-48b3-9915-5f99f8ef60ba",
   "metadata": {},
   "outputs": [
    {
     "name": "stdout",
     "output_type": "stream",
     "text": [
      "he is not 李嘉杭 but 一哥\n"
     ]
    }
   ],
   "source": [
    "#笔记\n",
    "#对前两个format函数的理解应用 一个赋值的函数定义\n",
    "#foramt会把参数按位置顺序来填充到字符串中，第一个参数是0，然后1 ……也可以不输入数字，这样也会按顺序来填充\n",
    "print('he is not {0} but {1}'.format('李嘉杭','一哥'))\n"
   ]
  },
  {
   "cell_type": "code",
   "execution_count": 41,
   "id": "f8316e67-b1f6-46da-a47c-cf3a4a93c8ed",
   "metadata": {},
   "outputs": [
    {
     "name": "stdout",
     "output_type": "stream",
     "text": [
      "func=2\n"
     ]
    }
   ],
   "source": [
    "#函数解包练习\n",
    "x,y,b=2,5,7   \n",
    "func=2*x+3*y+b\n",
    "print(\"func={}\".format(x,y,b,func_2))\n",
    "#笔记\n",
    "#系列解包赋值，依然是老思路，重要的是format的赋值"
   ]
  },
  {
   "cell_type": "code",
   "execution_count": 46,
   "id": "4f699632-ae65-4e9d-b0b6-bcf585a104a9",
   "metadata": {},
   "outputs": [
    {
     "name": "stdout",
     "output_type": "stream",
     "text": [
      "[5, 8, 11, 14, 17]\n",
      "The list length=5\n",
      "Maximum value=17\n",
      "Minimum value=5\n"
     ]
    }
   ],
   "source": [
    "#基础数据库list 列表\n",
    "lst_n=list(range(5,20,3)) #建立列表。range(start,stop,[,step])建立区间。\n",
    "print(lst_n)\n",
    "print(\"The list length={}\".format(len(lst_n)))   \n",
    "print(\"Maximum value={}\".format(max(lst_n)))     \n",
    "print(\"Minimum value={}\".format(min(lst_n)))\n",
    "#笔记\n",
    "#1.先用list n定义一个库2.用print定义最大最小值3.结合format结束\n",
    " #range中由头 尾 间距组成一个list\n",
    " #内置函数range  用于生成一个整数序列"
   ]
  },
  {
   "cell_type": "code",
   "execution_count": 47,
   "id": "914cf435-3cfc-4102-9ac6-7ce8c478a958",
   "metadata": {},
   "outputs": [
    {
     "name": "stdout",
     "output_type": "stream",
     "text": [
      "['d', 'e', 'f', 'g', 'h', 'i', 'j', 'k', 'l', 'm']\n",
      "__________________________________________________\n",
      "[3:6]->['g', 'h', 'i']\n",
      "[-3:-1]->['k', 'l']\n",
      "[-3:]->['k', 'l', 'm']\n",
      "[:3]->['d', 'e', 'f']\n",
      "[:]->['d', 'e', 'f', 'g', 'h', 'i', 'j', 'k', 'l', 'm']\n"
     ]
    }
   ],
   "source": [
    "#分片(List Slices)\n",
    "lst_s=list(map(chr,range(100,110)))  \n",
    "print(lst_s)\n",
    "print(\"_\"*50)\n",
    "print(\"[3:6]->{}\".format(lst_s[3:6]))\n",
    "print(\"[-3:-1]->{}\".format(lst_s[-3:-1]))\n",
    "print(\"[-3:]->{}\".format(lst_s[-3:]))\n",
    "print(\"[:3]->{}\".format(lst_s[:3]))\n",
    "print(\"[:]->{}\".format(lst_s[:]))\n",
    "#笔记\n",
    "#分片就是通过操作索引访问及获得序列的一个或多个元素\n",
    "#如果序列中有N个元素，索引的范围，正序是：0到N-1，逆序是：-N到-1\n",
    "#分片的操作一般需要三个参数，例如获取a的第一个元素到第三个元素，则应该为：a[0,3,1]\n",
    "#其中0代表第一个元素的索引，3代表第三个元素的索引的后面的值，1代表递增数，也就是从0开始每一次加1来获取下一个元素\n"
   ]
  },
  {
   "cell_type": "code",
   "execution_count": 48,
   "id": "63b2fbc3-195e-4ebb-b38d-b2188e9b72b5",
   "metadata": {},
   "outputs": [
    {
     "name": "stdout",
     "output_type": "stream",
     "text": [
      "Help on class map in module builtins:\n",
      "\n",
      "class map(object)\n",
      " |  map(func, *iterables) --> map object\n",
      " |  \n",
      " |  Make an iterator that computes the function using arguments from\n",
      " |  each of the iterables.  Stops when the shortest iterable is exhausted.\n",
      " |  \n",
      " |  Methods defined here:\n",
      " |  \n",
      " |  __getattribute__(self, name, /)\n",
      " |      Return getattr(self, name).\n",
      " |  \n",
      " |  __iter__(self, /)\n",
      " |      Implement iter(self).\n",
      " |  \n",
      " |  __next__(self, /)\n",
      " |      Implement next(self).\n",
      " |  \n",
      " |  __reduce__(...)\n",
      " |      Return state information for pickling.\n",
      " |  \n",
      " |  ----------------------------------------------------------------------\n",
      " |  Static methods defined here:\n",
      " |  \n",
      " |  __new__(*args, **kwargs) from builtins.type\n",
      " |      Create and return a new object.  See help(type) for accurate signature.\n",
      "\n"
     ]
    }
   ],
   "source": [
    "help(map) #用help()方法查看说明"
   ]
  },
  {
   "cell_type": "code",
   "execution_count": 49,
   "id": "98655f2b-2cee-4ac0-b1a5-fffbb943b8df",
   "metadata": {},
   "outputs": [
    {
     "name": "stdout",
     "output_type": "stream",
     "text": [
      "Help on built-in function chr in module builtins:\n",
      "\n",
      "chr(i, /)\n",
      "    Return a Unicode string of one character with ordinal i; 0 <= i <= 0x10ffff.\n",
      "\n"
     ]
    }
   ],
   "source": [
    "help(chr)"
   ]
  },
  {
   "cell_type": "code",
   "execution_count": 50,
   "id": "38e91864-1845-437f-8e8e-629de66b4746",
   "metadata": {},
   "outputs": [
    {
     "name": "stdout",
     "output_type": "stream",
     "text": [
      "['d', 'e', 'f', 'g', 'h', 'i', 'j', 'k', 'l', 'm']\n",
      "__________________________________________________\n",
      "lst_s[5]=99->['d', 'e', 'f', 'g', 'h', 99, 'j', 'k', 'l', 'm']\n",
      "lst_s+[None]*6->['d', 'e', 'f', 'g', 'h', 99, 'j', 'k', 'l', 'm', None, None, None, None, None, None]\n",
      "lst_none[13]=2015->['d', 'e', 'f', 'g', 'h', 99, 'j', 'k', 'l', 'm', None, None, None, 2015, None, None]\n",
      "lst_none[-6:-3]=list(range(100,104,2))->['d', 'e', 'f', 'g', 'h', 99, 'j', 'k', 'l', 'm', 100, 102, 2015, None, None]\n",
      "lst_none[1:1]=[0,0,0,12]->['d', 0, 0, 0, 12, 'e', 'f', 'g', 'h', 99, 'j', 'k', 'l', 'm', 100, 102, 2015, None, None]\n",
      "del lst_none[-2:]->['d', 0, 0, 0, 12, 'e', 'f', 'g', 'h', 99, 'j', 'k', 'l', 'm', 100, 102, 2015]\n"
     ]
    }
   ],
   "source": [
    "#元素赋值+分片赋值+删除元素+列表相加+列表的乘法\n",
    "print(lst_s)\n",
    "print(\"_\"*50)\n",
    "lst_s[5]=99 #元素赋值\n",
    "print(\"lst_s[5]=99->{}\".format(lst_s))\n",
    "lst_none=lst_s+[None]*6\n",
    "print(\"lst_s+[None]*6->{}\".format(lst_none))\n",
    "lst_none[13]=2015\n",
    "print(\"lst_none[13]=2015->{}\".format(lst_none))\n",
    "lst_none[-6:-3]=list(range(100,104,2)) #分片赋值\n",
    "print(\"lst_none[-6:-3]=list(range(100,104,2))->{}\".format(lst_none))\n",
    "lst_none[1:1]=[0,0,0,12]\n",
    "print(\"lst_none[1:1]=[0,0,0,12]->{}\".format(lst_none))\n",
    "del lst_none[-2:] #删除元素\n",
    "print(\"del lst_none[-2:]->{}\".format(lst_none))\n",
    "#笔记\n",
    "#用于在列表中加入元素和赋值\n",
    "#赋值的操作和之前format函数运算相同\n",
    "#分片赋值要结合range函数去做 并不困难"
   ]
  },
  {
   "cell_type": "code",
   "execution_count": null,
   "id": "570154a3-d345-4cc8-a405-fa55bf7d72d0",
   "metadata": {},
   "outputs": [],
   "source": [
    "#知识点\n",
    "#方法和函数是python语言编程中重要的两个概念，函数的表达方法是function(object)，function代表着将要执行的动作，object则是被执行的对象，\n",
    "#例如list()是构建列表的函数，range()是构建区间的函数。\n",
    "#方法实质上也是一种函数，只是不同对象具有不同的方法，方法表达的方式为object.method(item)，object为具有method方法的对象，可以是列表、字符串、序列等任何python中的对象\n",
    "#item为在method方法下操作的项值"
   ]
  },
  {
   "cell_type": "code",
   "execution_count": 52,
   "id": "647a4cf2-d1fd-4571-9244-a15d9e667fcb",
   "metadata": {},
   "outputs": [
    {
     "name": "stdout",
     "output_type": "stream",
     "text": [
      "['d', 'e', 'f', 'g', 'h']\n",
      "__________________________________________________\n",
      "lst_s_2.append(99)->['d', 'e', 'f', 'g', 'h', 99]\n",
      "lst_s_2.append(list(range(50,80,5)))->['d', 'e', 'f', 'g', 'h', 99, [50, 55, 60, 65, 70, 75]]\n",
      "lst_s_2.extend(lst_spechars)->['d', 'e', 'f', 'g', 'h', 99, [50, 55, 60, 65, 70, 75], '*', ')', '*']\n",
      "lst_s_2.count('*')=2\n",
      "lst_s_2.index('e')=1\n",
      "lst_s_2.insert(2,[1000,1200,1500])->['d', 'e', [1000, 1200, 1500], 'f', 'g', 'h', 99, [50, 55, 60, 65, 70, 75], '*', ')', '*']\n",
      "lst_s_2.pop(7)_popup->[50, 55, 60, 65, 70, 75]\n",
      "lst_s_2.pop(7)_retention->['d', 'e', [1000, 1200, 1500], 'f', 'g', 'h', 99, '*', ')', '*']\n",
      "lst_s_2.remove('*')_retention->['d', 'e', [1000, 1200, 1500], 'f', 'g', 'h', 99, ')', '*']\n",
      "list_n_2.sort()->[2, 3, 4, 6, 42, 95]\n"
     ]
    }
   ],
   "source": [
    "lst_s_2=list(map(chr,range(100,105)))\n",
    "print(lst_s_2)\n",
    "print(\"_\"*50)\n",
    "lst_s_2.append(99)\n",
    "print(\"lst_s_2.append(99)->{}\".format(lst_s_2))\n",
    "lst_s_2.append(list(range(50,80,5)))\n",
    "print(\"lst_s_2.append(list(range(50,80,5)))->{}\".format(lst_s_2))\n",
    "lst_spechars=['*',')','*']\n",
    "lst_s_2.extend(lst_spechars)\n",
    "print(\"lst_s_2.extend(lst_spechars)->{}\".format(lst_s_2))\n",
    "print(\"lst_s_2.count('*')={}\".format(lst_s_2.count('*')))\n",
    "print(\"lst_s_2.index('e')={}\".format(lst_s_2.index('e')))\n",
    "lst_s_2.insert(2,[1000,1200,1500])\n",
    "print(\"lst_s_2.insert(2,[1000,1200,1500])->{}\".format(lst_s_2))\n",
    "print(\"lst_s_2.pop(7)_popup->{}\".format(lst_s_2.pop(7)))\n",
    "print(\"lst_s_2.pop(7)_retention->{}\".format(lst_s_2))\n",
    "lst_s_2.remove('*')\n",
    "print(\"lst_s_2.remove('*')_retention->{}\".format(lst_s_2))\n",
    "list_n_2=[2,42,6,95,4,3]\n",
    "list_n_2.sort()\n",
    "print(\"list_n_2.sort()->{}\".format(list_n_2))"
   ]
  },
  {
   "cell_type": "code",
   "execution_count": 53,
   "id": "451f7cdb-a0ce-45c4-bcf4-3ff58a724980",
   "metadata": {},
   "outputs": [
    {
     "name": "stdout",
     "output_type": "stream",
     "text": [
      "tuple_1=2,3,5,->(2, 3, 5)\n",
      "3*(20*3,)->(60, 60, 60)\n",
      "tuple((5,8,9))->(5, 8, 9)\n",
      "tuple([5,8,9])->(5, 8, 9)\n"
     ]
    }
   ],
   "source": [
    "#tuple的用法\n",
    "tuple_1=2,3,5,\n",
    "print(\"tuple_1=2,3,5,->{}\".format(tuple_1))\n",
    "print(\"3*(20*3,)->{}\".format(3*(20*3,)))\n",
    "print(\"tuple((5,8,9))->{}\".format(tuple((5,8,9)))) #用()\n",
    "print(\"tuple([5,8,9])->{}\".format(tuple([5,8,9]))) #用[]\n",
    "#笔记\n",
    "#元组和列表类似，只是元组不能够修改，但是可以提取项值。元组的语法为tuple=(value1,value2,value3,..)，用小括号括起，中间与列表一样由“，”号隔开。最后也需要点逗号。\n",
    "#元组是一个不可变序列 ：字符串，元组  无增删改操作"
   ]
  },
  {
   "cell_type": "code",
   "execution_count": 55,
   "id": "8553a758-1dfc-4bcb-92b6-f7b93c0ecb50",
   "metadata": {
    "jupyter": {
     "outputs_hidden": true
    },
    "tags": []
   },
   "outputs": [
    {
     "ename": "SyntaxError",
     "evalue": "invalid syntax (<ipython-input-55-7992ebfd172b>, line 1)",
     "output_type": "error",
     "traceback": [
      "\u001b[1;36m  File \u001b[1;32m\"<ipython-input-55-7992ebfd172b>\"\u001b[1;36m, line \u001b[1;32m1\u001b[0m\n\u001b[1;33m    (Python 2.0+)tup1 = ('physics', 'chemistry', 1997, 2000)\u001b[0m\n\u001b[1;37m            ^\u001b[0m\n\u001b[1;31mSyntaxError\u001b[0m\u001b[1;31m:\u001b[0m invalid syntax\n"
     ]
    }
   ],
   "source": [
    "#实例(Python 2.0+)tup1 = ('physics', 'chemistry', 1997, 2000)\n",
    "tup2 = (1, 2, 3, 4, 5 )\n",
    "tup3 = \"a\", \"b\", \"c\", \"d\"\n",
    "#元组与字符串类似，下标索引从0开始，可以进行截取，组合等。\n",
    "#访问元组\n",
    "#元组可以使用下标索引来访问元组中的值\n",
    "#实例(Python 2.0+)#!/usr/bin/python\n",
    "tup1 = ('physics', 'chemistry', 1997, 2000)\n",
    "tup2 = (1, 2, 3, 4, 5, 6, 7 )\n",
    "print \"tup1[0]: \", tup1[0]\n",
    "print \"tup2[1:5]: \", tup2[1:5]"
   ]
  },
  {
   "cell_type": "code",
   "execution_count": 1,
   "id": "17e62c2c-545a-404e-9ac5-886cfe390d2b",
   "metadata": {},
   "outputs": [
    {
     "name": "stdout",
     "output_type": "stream",
     "text": [
      "items->[(0, [0, 1, 2, 3, 4]), (1, [[158, 135, 174]]), (2, 'python')]\n",
      "dic=dict(items)->{0: [0, 1, 2, 3, 4], 1: [[158, 135, 174]], 2: 'python'}\n",
      "dic[1]->[[158, 135, 174]]\n"
     ]
    }
   ],
   "source": [
    "import random#字典是另一种可变容器模型，且可存储任意类型对象。字典的每个键值 key=>value 对用冒号 : 分割，每个键值对之间用逗号 , 分割，整个字典包括在花括号 {} 中\n",
    "items=[(0,[i for i in range(5)]),(1,[random.sample(list(range(100,200,1)),3)]),(2,'python')] #[i for i in range(5)] 为列表推导式 list comprehension/derivation\n",
    "print(\"items->{}\".format(items))\n",
    "dic=dict(items)\n",
    "print(\"dic=dict(items)->{}\".format(dic))\n",
    "print(\"dic[1]->{}\".format(dic[1]))"
   ]
  },
  {
   "cell_type": "code",
   "execution_count": 2,
   "id": "7687cfed",
   "metadata": {},
   "outputs": [
    {
     "name": "stdout",
     "output_type": "stream",
     "text": [
      "len(dic)->3\n",
      "dic[3]=(random.random(),random.uniform(200,300))->{0: [0, 1, 2, 3, 4], 1: [[158, 135, 174]], 2: 'python', 3: (0.24332707551099675, 210.64323978069214)}\n",
      "del dic[1]->{0: [0, 1, 2, 3, 4], 2: 'python', 3: (0.24332707551099675, 210.64323978069214)}\n",
      "3 in dic->True\n",
      "5 in dic->False\n",
      "dic.keys()->dict_keys([0, 2, 3])\n",
      "dic.values()->dict_values([[0, 1, 2, 3, 4], 'python', (0.24332707551099675, 210.64323978069214)])\n",
      "dic.items()->dict_items([(0, [0, 1, 2, 3, 4]), (2, 'python'), (3, (0.24332707551099675, 210.64323978069214))])\n",
      "__________________________________________________\n",
      "list(dic.keys())->[0, 2, 3]\n"
     ]
    }
   ],
   "source": [
    "print(\"len(dic)->{}\".format(len(dic)))#向字典添加新内容的方法是增加新的键/值对，修改或删除已有键/值对如下实例:\n",
    "#能删单一的元素也能清空字典，清空只需一项操作。显示删除一个字典用del命令，\n",
    "dic[3]=(random.random(),random.uniform(200,300))\n",
    "print(\"dic[3]=(random.random(),random.uniform(200,300))->{}\".format(dic))\n",
    "del dic[1]\n",
    "print(\"del dic[1]->{}\".format(dic))\n",
    "print(\"3 in dic->{}\".format(3 in dic))\n",
    "print(\"5 in dic->{}\".format(5 in dic))\n",
    "print(\"dic.keys()->{}\".format(dic.keys())) \n",
    "print(\"dic.values()->{}\".format(dic.values()))\n",
    "print(\"dic.items()->{}\".format(dic.items()))\n",
    "print(\"_\"*50)\n",
    "print(\"list(dic.keys())->{}\".format(list(dic.keys())))"
   ]
  },
  {
   "cell_type": "code",
   "execution_count": 3,
   "id": "b191006d",
   "metadata": {},
   "outputs": [
    {
     "name": "stdout",
     "output_type": "stream",
     "text": [
      "lst_A=[6, 9, 12, 15, 18],lst_B=[100, 115, 130, 145]\n",
      "dic_2={0: [6, 9, 12, 15, 18], 1: [100, 115, 130, 145]}\n",
      "__________________________________________________\n",
      "dic_assignment={0: [6, 9, 12, 15, 18], 1: [100, 115, 130, 145]}\n",
      "dic_2.clear()->{}\n",
      "dic_assignment={}\n",
      "dic_2[5]=list(range(1,9,2))->{5: [1, 3, 5, 7]}\n",
      "dic_copy=dic_2.copy()->{5: [1, 3, 5, 7]}\n",
      "dic_2[8]=[5,7]->{5: [1, 3, 5, 7], 8: [5, 7]}\n",
      "dic_copy={5: [1, 3, 5, 7]}\n",
      "dic_copy[5].remove(5)->{5: [1, 3, 7]}\n",
      "dic_copy.setdefault(6,[77,99])->{5: [1, 3, 7], 6: [77, 99]}\n",
      "dic_2.pop(5)->{8: [5, 7]}\n",
      "dic_update={8: [5, 7, 6, 3, 2], 9: [3, 2, 33, 55, 66]}\n",
      "dic_2.update(dic_update->{8: [5, 7, 6, 3, 2], 9: [3, 2, 33, 55, 66]}\n",
      "dic_2.get(9)->[3, 2, 33, 55, 66]\n",
      "dic_2.popitem()->{8: [5, 7, 6, 3, 2]}\n",
      "dic_3={}.fromkeys([0,1,2,3,4,'A'])->{0: None, 1: None, 2: None, 3: None, 4: None, 'A': None}\n"
     ]
    }
   ],
   "source": [
    "lst_A=list(range(6,20,3))\n",
    "lst_B=list(range(100,150,15))\n",
    "print(\"lst_A={},lst_B={}\".format(lst_A,lst_B))\n",
    "dic_2={0:lst_A,1:lst_B}\n",
    "print(\"dic_2={}\".format(dic_2))\n",
    "print(\"_\"*50)\n",
    "dic_assignment=dic_2\n",
    "print(\"dic_assignment={}\".format(dic_assignment))\n",
    "dic_2.clear()\n",
    "print(\"dic_2.clear()->{}\".format(dic_2))\n",
    "print(\"dic_assignment={}\".format(dic_assignment))\n",
    "dic_2[5]=list(range(1,9,2))\n",
    "print(\"dic_2[5]=list(range(1,9,2))->{}\".format(dic_2))\n",
    "dic_copy=dic_2.copy()\n",
    "print(\"dic_copy=dic_2.copy()->{}\".format(dic_copy))\n",
    "dic_2[8]=[5,7]\n",
    "print(\"dic_2[8]=[5,7]->{}\".format(dic_2))\n",
    "print(\"dic_copy={}\".format(dic_copy))\n",
    "dic_copy[5].remove(5)\n",
    "print(\"dic_copy[5].remove(5)->{}\".format(dic_copy))\n",
    "dic_copy.setdefault(6,[77,99]) #返回指定键的值，如果不存在该键，则字典增加新的键/值对\n",
    "print(\"dic_copy.setdefault(6,[77,99])->{}\".format(dic_copy))\n",
    "dic_2.pop(5) #移除指定键/值，并返回该值\n",
    "print(\"dic_2.pop(5)->{}\".format(dic_2))\n",
    "dic_update={8:[5,7,6,3,2],9:[3,2,33,55,66]}\n",
    "print(\"dic_update={}\".format(dic_update))\n",
    "dic_2.update(dic_update) #更新字典\n",
    "print(\"dic_2.update(dic_update->{}\".format(dic_2))\n",
    "print(\"dic_2.get(9)->{}\".format(dic_2.get(9)))\n",
    "dic_2.popitem() #随即弹出一对键/值，并在该字典中移除\n",
    "print(\"dic_2.popitem()->{}\".format(dic_2))\n",
    "\n",
    "dic_3={}.fromkeys([0,1,2,3,4,'A']) #给定键，建立值为空的字典\n",
    "print(\"dic_3={}\"+\".fromkeys([0,1,2,3,4,'A'])->{}\".format(dic_3)) #找下escape characters 脱字符"
   ]
  },
  {
   "cell_type": "code",
   "execution_count": 4,
   "id": "f42cd128",
   "metadata": {},
   "outputs": [
    {
     "name": "stdout",
     "output_type": "stream",
     "text": [
      "lst_s_3=list(\"Hello Python!\")->['H', 'e', 'l', 'l', 'o', ' ', 'P', 'y', 't', 'h', 'o', 'n', '!']\n",
      "\"Hellow\"+\" Python!\"->Hellow Python!\n",
      "\"+\".join(str(123456))->1+2+3+4+5+6\n",
      "len(\"Hellow Python!\")->14\n",
      "coordinates.split(\",\")->['120.132007', '30.300508', '9.7']\n",
      "eval(coordinates)->(120.132007, 30.300508, 9.7)\n",
      "\"Hello Python!\".lower()->hello python!\n",
      "\"Hello Python!\".upper()->HELLO PYTHON!\n",
      "\"Hello Python!\"[6:]->Python!\n",
      "\"    Hello Python!    \".strip()->Hello Python!\n",
      "\"Hello Python!\".replace(\"Python\",\"Grasshopper\")->Hello Grasshopper!\n",
      "hello_lst.sort()>[' ', '!', 'H', 'P', 'e', 'h', 'l', 'l', 'n', 'o', 'o', 't', 'y']\n",
      "\"Hello Python!\".find(\"Py\")->6\n"
     ]
    }
   ],
   "source": [
    "lst_s_3=list(\"Hello Python!\")#字符串是 Python 中最常用的数据类型。我们可以使用引号('或\")来创建字符串。创建字符串很简单，只要为变量分配一个值即可\n",
    "print(\"lst_s_3=list(\\\"Hello Python!\\\")->{}\".format(lst_s_3)) #\"\\\" escape character\n",
    "print(\"\\\"Hellow\\\"+\\\" Python!\\\"->{}\".format(\"Hellow\"+\" Python!\"))#Python 不支持单字符类型，单字符在 Python 中也是作为一个字符串使用。Python 访问子字符串，可以使用方括号来截取字符串，\n",
    "print(\"\\\"+\\\".join(str(123456))->{}\".format(\"+\".join(str(123456))))\n",
    "print(\"len(\\\"Hellow Python!\\\")->{}\".format(len(\"Hellow Python!\")))#Python 支持格式化字符串的输出 。尽管这样可能会用到非常复杂的表达式，但最基本的用法是将一个值插入到一个有字符串格式符 %s 的字符串中。在 Python 中，字符串格式化使用与 C 中 sprintf 函数一样的语法。\n",
    "coordinates=\"120.132007,30.300508,9.7\"\n",
    "print(\"coordinates.split(\\\",\\\")->{}\".format(coordinates.split(\",\")))\n",
    "print(\"eval(coordinates)->{}\".format(eval(coordinates))) #通常用eval()方法将字符串，转换为对应数值形式；\n",
    "print(\"\\\"Hello Python!\\\".lower()->{}\".format(\"Hello Python!\".lower()))\n",
    "print(\"\\\"Hello Python!\\\".upper()->{}\".format(\"Hello Python!\".upper()))\n",
    "print(\"\\\"Hello Python!\\\"[6:]->{}\".format(\"Hello Python!\"[6:]))\n",
    "print(\"\\\"    Hello Python!    \\\".strip()->{}\".format(\"    Hello Python!    \".strip()))\n",
    "print(\"\\\"Hello Python!\\\".replace(\\\"Python\\\",\\\"Grasshopper\\\")->{}\".format(\"Hello Python!\".replace(\"Python\",\"Grasshopper\")))\n",
    "hello_lst=list(\"Hello Python!\")\n",
    "hello_lst.sort()\n",
    "print(\"hello_lst.sort()>{}\".format(hello_lst))\n",
    "print(\"\\\"Hello Python!\\\".find(\\\"Py\\\")->{}\".format(\"Hello Python!\".find(\"Py\")))"
   ]
  },
  {
   "cell_type": "code",
   "execution_count": 6,
   "id": "08addaa6",
   "metadata": {},
   "outputs": [
    {
     "name": "stdout",
     "output_type": "stream",
     "text": [
      "re.findall(pattern_1,text)->['Python']\n",
      "re.findall(pattern_2,text)->[]\n"
     ]
    }
   ],
   "source": [
    "import re\n",
    "pattern_1='Python'#字符串方法是从python1.6到2.0慢慢加进来的——它们也被加到了Jython中。这些方法实现了string模块的大部分方法，如下表所示列出了目前字符串内建支持的方法，所有的方法都包含了对Unicode的支持，有一些甚至是专门用于Unicode的。\n",
    "text=\"Hello Python!\"\n",
    "print(\"re.findall(pattern_1,text)->{}\".format(re.findall(pattern_1,text)))\n",
    "pattern_2='python'\n",
    "print(\"re.findall(pattern_2,text)->{}\".format(re.findall(pattern_2,text)))"
   ]
  },
  {
   "cell_type": "code",
   "execution_count": 7,
   "id": "5e9dd31e",
   "metadata": {},
   "outputs": [
    {
     "name": "stdout",
     "output_type": "stream",
     "text": [
      "re.findall('[a-z]','python')->['p', 'y', 't', 'h', 'o', 'n']\n",
      "re.search('[a-z]+','python')-><re.Match object; span=(0, 6), match='python'>\n",
      "re.search('[a-z]+','python')->found it!\n",
      "re.split(',','Hello,,,,,,Python!')->['Hello', '', '', '', '', '', 'Python!']\n",
      "re.sub('Python','Grasshopper','Hello Python!')->Hello Grasshopper!\n",
      "pattern_compile.findall('Hello,,,,,,Python!')->['Python']\n",
      "re.match('p','python')->found it!\n"
     ]
    }
   ],
   "source": [
    "print(\"re.findall('[a-z]','python')->{}\".format(re.findall('[a-z]','python-3.0')))\n",
    "print(\"re.search('[a-z]+','python')->{}\".format(re.search('[a-z]+','python')))\n",
    "if re.search('[a-z]+','python'):\n",
    "    print(\"re.search('[a-z]+','python')->found it!\")\n",
    "print(\"re.split(',','Hello,,,,,,Python!')->{}\".format(re.split(',','Hello,,,,,,Python!')))\n",
    "print(\"re.sub('Python','Grasshopper','Hello Python!')->{}\".format(re.sub('Python','Grasshopper','Hello Python!')))\n",
    "\n",
    "pattern_compile=re.compile('Python')\n",
    "print(\"pattern_compile.findall('Hello,,,,,,Python!')->{}\".format(pattern_compile.findall('Hello,,,,,,Python!')))\n",
    "\n",
    "if re.match('p','python'):\n",
    "    print(\"re.match('p','python')->found it!\")"
   ]
  },
  {
   "cell_type": "code",
   "execution_count": 8,
   "id": "1e5b2755",
   "metadata": {},
   "outputs": [
    {
     "name": "stdout",
     "output_type": "stream",
     "text": [
      "match_1.gourp(1)->python\n",
      "match_1.start(1)->4\n",
      "match_1.end(1)->10\n",
      "match_1.span(1)->(4, 10)\n",
      "match_2.group(1)->python\n",
      "match_2.group(2)->org\n"
     ]
    }
   ],
   "source": [
    "match_1=re.match(r'www\\.(.*)\\..{3}','www.python.org')\n",
    "print(\"match_1.gourp(1)->{}\".format(match_1.group(1)))\n",
    "print(\"match_1.start(1)->{}\".format(match_1.start(1)))\n",
    "print(\"match_1.end(1)->{}\".format(match_1.end(1)))\n",
    "print(\"match_1.span(1)->{}\".format(match_1.span(1)))\n",
    "match_2=re.match(r'www\\.(.*)\\.(.{3})','www.python.org')\n",
    "print(\"match_2.group(1)->{}\".format(match_2.group(1)))\n",
    "print(\"match_2.group(2)->{}\".format(match_2.group(2)))#re.search()和re.match()返回的MatchObject实例包含关于分组内容的信息，和匹配值的位置数据。那么什么是组？组就是放置在圆括号内的子模"
   ]
  },
  {
   "cell_type": "code",
   "execution_count": 9,
   "id": "9c1ac6ec",
   "metadata": {},
   "outputs": [
    {
     "name": "stdout",
     "output_type": "stream",
     "text": [
      "lst_1=[29, 31, 33, 35]\n",
      "__________________________________________________\n",
      "for i in lst_1:\n",
      "29\n",
      "31\n",
      "33\n",
      "35\n",
      "for i in range(len(lst_1)):\n",
      "idx=0,val=29\n",
      "idx=1,val=31\n",
      "idx=2,val=33\n",
      "idx=3,val=35\n",
      "++++++++++++++++++++++++++++++++++++++++++++++++++\n",
      "dic_4={'a': 2, 'b': 3, 'c': 6, 'd': 0}\n",
      "__________________________________________________\n",
      "for k in dic_4:\n",
      "a\n",
      "b\n",
      "c\n",
      "d\n",
      "for k,v in dic_4.items():\n",
      "key=a,val=2\n",
      "key=b,val=3\n",
      "key=c,val=6\n",
      "key=d,val=0\n"
     ]
    }
   ],
   "source": [
    "lst_1=list(range(29,37,2))#for语句是python中的循环控制语句。可用来遍历某一对象，还具有一个附带的可选的else块，\n",
    "#主要用于处理for语句中包含的break语句。如果for循环未被break终止，则执行else块中的语句。\n",
    "#break 在需要时终止for循环continue 跳过位于其后的语句，开始下一轮循环。\n",
    "print(\"lst_1={}\".format(lst_1))\n",
    "print(\"_\"*50)\n",
    "print(\"for i in lst_1:\")\n",
    "for i in lst_1:\n",
    "    print(i)\n",
    "print(\"for i in range(len(lst_1)):\")\n",
    "for i in range(len(lst_1)):\n",
    "    print(\"idx={},val={}\".format(i,lst_1[i]))\n",
    "print(\"+\"*50)   \n",
    "dic_4=dict(a=2,b=3,c=6,d=0)\n",
    "print(\"dic_4={}\".format(dic_4))\n",
    "print(\"_\"*50)\n",
    "print(\"for k in dic_4:\")\n",
    "for k in dic_4:\n",
    "    print(k)\n",
    "print(\"for k,v in dic_4.items():\")\n",
    "for k,v in dic_4.items():\n",
    "    print(\"key={},val={}\".format(k,v))"
   ]
  },
  {
   "cell_type": "code",
   "execution_count": 10,
   "id": "260bdbda",
   "metadata": {},
   "outputs": [
    {
     "name": "stdout",
     "output_type": "stream",
     "text": [
      "x=1\n",
      "x=11\n",
      "x=21\n",
      "x=31\n",
      "x=41\n",
      "x=51\n",
      "x=61\n",
      "x=71\n",
      "x=81\n",
      "x=91\n"
     ]
    }
   ],
   "source": [
    "x=1#执行语句可以是单个语句或语句块。判断条件可以是任何表达式，任何非零、或非空（null）的值均为true。\n",
    "#当判断条件假 false 时，循环结束。\n",
    "while x<=100:\n",
    "    print(\"x={}\".format(x))\n",
    "    x+=10 #增量赋值; x*=2  "
   ]
  },
  {
   "cell_type": "code",
   "execution_count": 11,
   "id": "5b238c89",
   "metadata": {},
   "outputs": [
    {
     "name": "stdout",
     "output_type": "stream",
     "text": [
      "x=1\n",
      "x=11\n",
      "x=21\n",
      "x=31\n",
      "x=41\n",
      "sys.maxsize=9223372036854775807\n",
      "i=0\n",
      "i=1\n",
      "i=2\n",
      "i=3\n",
      "i=4\n",
      "i=5\n",
      "i=6\n",
      "i=7\n",
      "i=8\n",
      "i=9\n",
      "i=10\n",
      "i=11\n",
      "i=12\n",
      "i=13\n",
      "i=14\n",
      "i=15\n",
      "i=16\n",
      "i=17\n",
      "i=18\n",
      "i=19\n",
      "i=20\n"
     ]
    }
   ],
   "source": [
    "x=1\n",
    "while x<=100:\n",
    "    print(\"x={}\".format(x))\n",
    "    x+=10 \n",
    "    if x>=50:break    \n",
    "    \n",
    "import sys\n",
    "print(\"sys.maxsize={}\".format(sys.maxsize))\n",
    "for i in range(sys.maxsize):\n",
    "    print(\"i={}\".format(i))  #?\n",
    "    i+=10\n",
    "    if i>=30:break"
   ]
  },
  {
   "cell_type": "code",
   "execution_count": 13,
   "id": "22f2e4fa",
   "metadata": {},
   "outputs": [
    {
     "ename": "NameError",
     "evalue": "name 'f' is not defined",
     "output_type": "error",
     "traceback": [
      "\u001b[1;31m---------------------------------------------------------------------------\u001b[0m",
      "\u001b[1;31mNameError\u001b[0m                                 Traceback (most recent call last)",
      "\u001b[1;32m<ipython-input-13-43e28a18fabb>\u001b[0m in \u001b[0;36m<module>\u001b[1;34m\u001b[0m\n\u001b[0;32m      2\u001b[0m \u001b[1;31m#continue 语句用来告诉Python 跳过当前循环的剩余语句，然后继续进行下一轮循环。continue语句用在while和for循环中。\u001b[0m\u001b[1;33m\u001b[0m\u001b[1;33m\u001b[0m\u001b[1;33m\u001b[0m\u001b[0m\n\u001b[0;32m      3\u001b[0m \u001b[1;32mwhile\u001b[0m \u001b[1;32mTrue\u001b[0m\u001b[1;33m:\u001b[0m\u001b[1;33m\u001b[0m\u001b[1;33m\u001b[0m\u001b[0m\n\u001b[1;32m----> 4\u001b[1;33m     \u001b[0mline\u001b[0m\u001b[1;33m=\u001b[0m\u001b[0mf\u001b[0m\u001b[1;33m.\u001b[0m\u001b[0mreadline\u001b[0m\u001b[1;33m(\u001b[0m\u001b[1;33m)\u001b[0m\u001b[1;33m\u001b[0m\u001b[1;33m\u001b[0m\u001b[0m\n\u001b[0m\u001b[0;32m      5\u001b[0m     \u001b[0melevation_dat\u001b[0m\u001b[1;33m.\u001b[0m\u001b[0mappend\u001b[0m\u001b[1;33m(\u001b[0m\u001b[0mline\u001b[0m\u001b[1;33m)\u001b[0m\u001b[1;33m\u001b[0m\u001b[1;33m\u001b[0m\u001b[0m\n\u001b[0;32m      6\u001b[0m     \u001b[1;32mif\u001b[0m \u001b[1;32mnot\u001b[0m \u001b[0mline\u001b[0m\u001b[1;33m:\u001b[0m\u001b[1;32mbreak\u001b[0m\u001b[1;33m\u001b[0m\u001b[1;33m\u001b[0m\u001b[0m\n",
      "\u001b[1;31mNameError\u001b[0m: name 'f' is not defined"
     ]
    }
   ],
   "source": [
    "#continue 语句跳出本次循环，而break跳出整个循环。 \n",
    "#continue 语句用来告诉Python 跳过当前循环的剩余语句，然后继续进行下一轮循环。continue语句用在while和for循环中。\n",
    "while True:\n",
    "    line=f.readline()\n",
    "    elevation_dat.append(line)\n",
    "    if not line:break\n",
    "f.close()\n",
    "print(\"elevation_dat[:10]={}\".format(elevation_dat[:10]))"
   ]
  },
  {
   "cell_type": "code",
   "execution_count": 14,
   "id": "a5247ef0",
   "metadata": {},
   "outputs": [
    {
     "name": "stdout",
     "output_type": "stream",
     "text": [
      "zip_lst=zip(lst_a,lst_b)-><zip object at 0x000001BD416BE8C0>\n",
      "dict(zip_lst)->{0: 'point_a', 1: 'point_b', 2: 'point_c', 3: 'point_d'}\n",
      "0 point_a\n",
      "1 point_b\n",
      "2 point_c\n",
      "3 point_d\n",
      "a=(0, 1, 2, 3),b=('point_a', 'point_b', 'point_c', 'point_d')\n"
     ]
    }
   ],
   "source": [
    "lst_a=[0,1,2,3]#  通过zip()函数对多个序列进行并行迭代，zip()序列函数在最短序列“用完”时就会停止\n",
    "lst_b=['point_a','point_b','point_c','point_d']\n",
    "zip_lst=zip(lst_a,lst_b) #The zip() function takes iterables (can be zero or more), aggregates them in a tuple, and returns it.\n",
    "print(\"zip_lst=zip(lst_a,lst_b)->{}\".format(zip_lst))\n",
    "print(\"dict(zip_lst)->{}\".format(dict(zip_lst)))\n",
    "\n",
    "zip_lst=zip(lst_a,lst_b) #迭代对象临时存储，读取完后为空\n",
    "for a,b in zip_lst:\n",
    "    print(a,b)\n",
    "    \n",
    "zip_lst=zip(lst_a,lst_b)\n",
    "a,b=zip(*zip_lst)\n",
    "print(\"a={},b={}\".format(a,b))"
   ]
  },
  {
   "cell_type": "code",
   "execution_count": 15,
   "id": "78e1f24a",
   "metadata": {},
   "outputs": [
    {
     "name": "stdout",
     "output_type": "stream",
     "text": [
      "dic_4={0: 'point_a', 1: 'point_b', 2: 'point_c', 3: 'point_d'}\n",
      "dict((i,v) for i,v in enumerate(lst_c))->{0: 'point_a', 1: 'point_b', 2: 'point_c', 3: 'point_d'}\n",
      "__________________________________________________\n",
      "0:0,point_a\n",
      "1:1,point_b\n",
      "2:2,point_c\n",
      "3:3,point_d\n"
     ]
    }
   ],
   "source": [
    "lst_c=['point_a','point_b','point_c','point_d']#  有些时候想要迭代序列中的对象，同时还想要获取当前对象的索引。\n",
    "#例如没在一个字符串列表中替换多有含'xxx'的子字符串。实现的方法肯定很多\n",
    "dic_4={}\n",
    "for idx,value in enumerate(lst_c):\n",
    "    dic_4[idx]=value\n",
    "print(\"dic_4={}\".format(dic_4))\n",
    "print(\"dict((i,v) for i,v in enumerate(lst_c))->{}\".format(dict((i,v) for i,v in enumerate(lst_c)))) #list comprehension\n",
    "print(\"_\"*50)\n",
    "for i,(a,b) in enumerate(zip(lst_a,lst_b)):\n",
    "    print('%d:%s,%s'%(i,a,b))"
   ]
  },
  {
   "cell_type": "code",
   "execution_count": 16,
   "id": "995147eb",
   "metadata": {},
   "outputs": [
    {
     "name": "stdout",
     "output_type": "stream",
     "text": [
      "[x*x for x in range(3,37,5) if x%2==0]->[64, 324, 784]\n",
      "[(x,y) for x in range(3)for y in range(2)]->[(0, 0), (0, 1), (1, 0), (1, 1), (2, 0), (2, 1)]\n",
      "[(x,y) for x,y in zip(range(3),range(2))]->[(0, 0), (1, 1)]\n",
      "[[a for a in range(1,10,3)],2,3,[b for b in range(60,100,7)],[[c for c in range(1000,2000,120)],3,9]]->[[1, 4, 7], 2, 3, [60, 67, 74, 81, 88, 95], [[1000, 1120, 1240, 1360, 1480, 1600, 1720, 1840, 1960], 3, 9]]\n",
      "flatten_lst(nested_list)->[1, 4, 7, 2, 3, 60, 67, 74, 81, 88, 95, 1000, 1120, 1240, 1360, 1480, 1600, 1720, 1840, 1960, 3, 9]\n"
     ]
    }
   ],
   "source": [
    "print(\"[x*x for x in range(3,37,5) if x%2==0]->{}\".format([x*x for x in range(3,37,5) if x%2==0]))#列表推导式形式简练、高效，常用于将一个函数应用于整个列表 或是 删除不必要的列表项。\n",
    "print(\"[(x,y) for x in range(3)for y in range(2)]->{}\".format([(x,y) for x in range(3)for y in range(2)]))\n",
    "print(\"[(x,y) for x,y in zip(range(3),range(2))]->{}\".format([(x,y) for x,y in zip(range(3),range(2))]))\n",
    "nested_list=[[a for a in range(1,10,3)],2,3,[b for b in range(60,100,7)],[[c for c in range(1000,2000,120)],3,9]]\n",
    "print(\"[[a for a in range(1,10,3)],2,3,[b for b in range(60,100,7)],[[c for c in range(1000,2000,120)],3,9]]->{}\".format(nested_list)) #嵌套列表推导式\n",
    "\n",
    "flatten_lst=lambda lst: [m for n_lst in lst for m in flatten_lst(n_lst)] if type(lst) is list else [lst] #展平列表常用，可以放置到单独的.py文件中调用。lambda函数后文阐述\n",
    "print(\"flatten_lst(nested_list)->{}\".format(flatten_lst(nested_list)))"
   ]
  },
  {
   "cell_type": "code",
   "execution_count": 18,
   "id": "b18511b0",
   "metadata": {},
   "outputs": [
    {
     "ename": "SyntaxError",
     "evalue": "invalid syntax (<ipython-input-18-0b8bbecb4c0c>, line 9)",
     "output_type": "error",
     "traceback": [
      "\u001b[1;36m  File \u001b[1;32m\"<ipython-input-18-0b8bbecb4c0c>\"\u001b[1;36m, line \u001b[1;32m9\u001b[0m\n\u001b[1;33m    else:\u001b[0m\n\u001b[1;37m    ^\u001b[0m\n\u001b[1;31mSyntaxError\u001b[0m\u001b[1;31m:\u001b[0m invalid syntax\n"
     ]
    }
   ],
   "source": [
    "if expression:#Python程序语言指定任何非0和非空（null）值为true，0 或者 null为false。\n",
    "#Python 编程中 if 语句用于控制程序的执行，基本形式为\n",
    "    statements\n",
    "elif expression:\n",
    "    statements\n",
    "elif expression:\n",
    "    pass\n",
    "...\n",
    "else:\n",
    "    statements"
   ]
  },
  {
   "cell_type": "code",
   "execution_count": 19,
   "id": "1154e585",
   "metadata": {},
   "outputs": [],
   "source": [
    "def function(arguments):\n",
    "    statement\n",
    "    ...\n",
    "    return values"
   ]
  },
  {
   "cell_type": "code",
   "execution_count": 20,
   "id": "355272ee",
   "metadata": {},
   "outputs": [
    {
     "ename": "NameError",
     "evalue": "name 'simple_func' is not defined",
     "output_type": "error",
     "traceback": [
      "\u001b[1;31m---------------------------------------------------------------------------\u001b[0m",
      "\u001b[1;31mNameError\u001b[0m                                 Traceback (most recent call last)",
      "\u001b[1;32m<ipython-input-20-7dff9eeeda67>\u001b[0m in \u001b[0;36m<module>\u001b[1;34m\u001b[0m\n\u001b[1;32m----> 1\u001b[1;33m \u001b[0mprint\u001b[0m\u001b[1;33m(\u001b[0m\u001b[1;34m\"simple_func(3,7)->{}\"\u001b[0m\u001b[1;33m.\u001b[0m\u001b[0mformat\u001b[0m\u001b[1;33m(\u001b[0m\u001b[0msimple_func\u001b[0m\u001b[1;33m(\u001b[0m\u001b[1;36m3\u001b[0m\u001b[1;33m,\u001b[0m\u001b[1;36m7\u001b[0m\u001b[1;33m)\u001b[0m\u001b[1;33m)\u001b[0m\u001b[1;33m)\u001b[0m\u001b[1;33m\u001b[0m\u001b[1;33m\u001b[0m\u001b[0m\n\u001b[0m\u001b[0;32m      2\u001b[0m \u001b[0mprint\u001b[0m\u001b[1;33m(\u001b[0m\u001b[1;34m\"simple_func(7,3)->{}\"\u001b[0m\u001b[1;33m.\u001b[0m\u001b[0mformat\u001b[0m\u001b[1;33m(\u001b[0m\u001b[0msimple_func\u001b[0m\u001b[1;33m(\u001b[0m\u001b[1;36m7\u001b[0m\u001b[1;33m,\u001b[0m\u001b[1;36m3\u001b[0m\u001b[1;33m)\u001b[0m\u001b[1;33m)\u001b[0m\u001b[1;33m)\u001b[0m\u001b[1;33m\u001b[0m\u001b[1;33m\u001b[0m\u001b[0m\n\u001b[0;32m      3\u001b[0m \u001b[0mprint\u001b[0m\u001b[1;33m(\u001b[0m\u001b[1;34m\"simple_func(y=7,x=3)->{}\"\u001b[0m\u001b[1;33m.\u001b[0m\u001b[0mformat\u001b[0m\u001b[1;33m(\u001b[0m\u001b[0msimple_func\u001b[0m\u001b[1;33m(\u001b[0m\u001b[0my\u001b[0m\u001b[1;33m=\u001b[0m\u001b[1;36m7\u001b[0m\u001b[1;33m,\u001b[0m\u001b[0mx\u001b[0m\u001b[1;33m=\u001b[0m\u001b[1;36m3\u001b[0m\u001b[1;33m)\u001b[0m\u001b[1;33m)\u001b[0m\u001b[1;33m)\u001b[0m\u001b[1;31m#函数代码块以 def 关键词开头，后接函数标识符名称和圆括号()。\u001b[0m\u001b[1;33m\u001b[0m\u001b[1;33m\u001b[0m\u001b[0m\n\u001b[0;32m      4\u001b[0m \u001b[1;31m#任何传入参数和自变量必须放在圆括号中间。圆括号之间可以用于定义参数。\u001b[0m\u001b[1;33m\u001b[0m\u001b[1;33m\u001b[0m\u001b[1;33m\u001b[0m\u001b[0m\n\u001b[0;32m      5\u001b[0m \u001b[1;31m#函数的第一行语句可以选择性地使用文档字符串—用于存放函数说明。\u001b[0m\u001b[1;33m\u001b[0m\u001b[1;33m\u001b[0m\u001b[1;33m\u001b[0m\u001b[0m\n",
      "\u001b[1;31mNameError\u001b[0m: name 'simple_func' is not defined"
     ]
    }
   ],
   "source": [
    "print(\"simple_func(3,7)->{}\".format(simple_func(3,7)))\n",
    "print(\"simple_func(7,3)->{}\".format(simple_func(7,3)))\n",
    "print(\"simple_func(y=7,x=3)->{}\".format(simple_func(y=7,x=3)))#函数代码块以 def 关键词开头，后接函数标识符名称和圆括号()。\n",
    "#任何传入参数和自变量必须放在圆括号中间。圆括号之间可以用于定义参数。\n",
    "#函数的第一行语句可以选择性地使用文档字符串—用于存放函数说明。\n",
    "#函数内容以冒号起始，并且缩进。\n",
    "#return [表达式] 结束函数，选择性地返回一个值给调用方。不带表达式的return相当于返回 None。\n"
   ]
  },
  {
   "cell_type": "code",
   "execution_count": 24,
   "id": "710323c7",
   "metadata": {},
   "outputs": [
    {
     "name": "stdout",
     "output_type": "stream",
     "text": [
      "5040\n"
     ]
    }
   ],
   "source": [
    "def factorial(n):  #首先“递归”包括两个过程：递“去”的过程，“归”回的过程！递归的执行过程：首先，递归会执行“去”的过程，只需要满足终止条件，就会一直在函数内，带着更新的参数，调用函数自身，注意：到内部调用函数， 以下面的代码不会被执行，而是暂停阻塞；此时 随着函数每调用一次自身，还没有触发 返回值和到达终止条件，等同于在原来的基础上不断“向下/向内”开辟新的内存空间\n",
    "    if n==1:\n",
    "        return 1\n",
    "    else:\n",
    "        return n*factorial(n-1)\n",
    "print(factorial(7))"
   ]
  },
  {
   "cell_type": "code",
   "execution_count": 25,
   "id": "72eec8a5",
   "metadata": {},
   "outputs": [],
   "source": [
    "class Bird:#用来描述具有相同的属性和方法的对象的集合。它定义了该集合中每个对象所共有的属性和方法。对象是类的实例。\n",
    "    fly='Whirring' #美 /wɜːr/ \n",
    "    def __init__(self):\n",
    "        self.hungry=True\n",
    "    def eat(self):\n",
    "        if self.hungry:\n",
    "            print('Aaaah...')\n",
    "            self.hungry=False\n",
    "        else:\n",
    "            print('No.Thanks!')\n",
    "\n",
    "class Apodidae(Bird):  #/'æpədədi:/\n",
    "    def __init__(self):\n",
    "        super(Apodidae,self).__init__()\n",
    "        self.sound='Squawk!' #美 /skwɔːk/ \n",
    "    def sing(self):\n",
    "        print(self.sound)"
   ]
  },
  {
   "cell_type": "code",
   "execution_count": 26,
   "id": "c7ee0b7d",
   "metadata": {},
   "outputs": [],
   "source": [
    "class Fibs():\n",
    "    def __init__(self):\n",
    "        self.a=0\n",
    "        self.b=1\n",
    "    def next(self):  #实现迭代器的next方法\n",
    "        self.a,self.b=self.b,self.a+self.b\n",
    "        return self.a\n",
    "    def __iter__(self): #实现迭代方法\n",
    "        return self"
   ]
  },
  {
   "cell_type": "code",
   "execution_count": 27,
   "id": "037eb2e2",
   "metadata": {},
   "outputs": [
    {
     "name": "stdout",
     "output_type": "stream",
     "text": [
      "lst_e=[[3, 6, 9, 12, 15, 18], [3, 7, 67, [0, 1, 2, 3, 4], 89]]\n",
      "__________________________________________________\n",
      "flatten_lst=[3, 6, 9, 12, 15, 18, 3, 7, 67, 0, 1, 2, 3, 4, 89]\n"
     ]
    }
   ],
   "source": [
    "lst_e=[list(range(3,20,3)),[3,7,67,list(range(5)),89]]#在 Python 中，使用了 yield 的函数被称为生成器（generator）。\n",
    "#跟普通函数不同的是，生成器是一个返回迭代器的函数，只能用于迭代操作，更简单点理解生成器就是一个迭代器。\n",
    "#在调用生成器运行的过程中，每次遇到 yield 时函数会暂停并保存当前所有的运行信息，返回 yield 的值, 并在下一次执行 next() 方法时从当前位置继续运行。\n",
    "#调用一个生成器函数，返回的是一个迭代器对象。\n",
    "print(\"lst_e={}\".format(lst_e))\n",
    "print(\"_\"*50)\n",
    "flatten_lst=[]\n",
    "for v_1 in lst_e:\n",
    "    try:\n",
    "        for v_2 in v_1:\n",
    "            try:\n",
    "                for v_3 in v_2:\n",
    "                    flatten_lst.append(v_3)\n",
    "            except TypeError:\n",
    "                flatten_lst.append(v_2)\n",
    "    except TypeError:\n",
    "        flatten_lst.append(v_1)\n",
    "print(\"flatten_lst={}\".format(flatten_lst))"
   ]
  },
  {
   "cell_type": "code",
   "execution_count": 28,
   "id": "aea573df",
   "metadata": {},
   "outputs": [],
   "source": [
    "def flatten(lst): #定义生成器（包含yield语句的函数）\n",
    "    try: #使用语句try\\except捕捉异常        \n",
    "        for n_lst in lst:  #循环列表            \n",
    "            for m in flatten(n_lst): #使用递归的方法循环子列表                \n",
    "                yield m  #使用yield语句，每次产生多个值，当返回一个值时函数就会被冻结，当再次激活时，从停止的那点开始执行\n",
    "    except TypeError:  #当函数被告知展开一个元素时，引发TypeError异常，生成器返回一个值\n",
    "        yield lst #生成器返回引发异常的一个值 "
   ]
  },
  {
   "cell_type": "code",
   "execution_count": 29,
   "id": "9321286d",
   "metadata": {},
   "outputs": [
    {
     "ename": "NameError",
     "evalue": "name 'pi' is not defined",
     "output_type": "error",
     "traceback": [
      "\u001b[1;31m---------------------------------------------------------------------------\u001b[0m",
      "\u001b[1;31mNameError\u001b[0m                                 Traceback (most recent call last)",
      "\u001b[1;32m<ipython-input-29-56796ace364b>\u001b[0m in \u001b[0;36m<module>\u001b[1;34m\u001b[0m\n\u001b[0;32m      1\u001b[0m \u001b[0mn\u001b[0m\u001b[1;33m=\u001b[0m\u001b[1;36m3\u001b[0m\u001b[1;33m\u001b[0m\u001b[1;33m\u001b[0m\u001b[0m\n\u001b[1;32m----> 2\u001b[1;33m \u001b[0mprint\u001b[0m\u001b[1;33m(\u001b[0m\u001b[1;34m\"[[(2*pi*(2*(u/(n-1))-1),2*pi*(2*(v/(n-1))-1)) for u in range(n)] for v in range(n)]->{}\"\u001b[0m\u001b[1;33m.\u001b[0m\u001b[0mformat\u001b[0m\u001b[1;33m(\u001b[0m\u001b[1;33m[\u001b[0m\u001b[1;33m[\u001b[0m\u001b[1;33m(\u001b[0m\u001b[1;36m2\u001b[0m\u001b[1;33m*\u001b[0m\u001b[0mpi\u001b[0m\u001b[1;33m*\u001b[0m\u001b[1;33m(\u001b[0m\u001b[1;36m2\u001b[0m\u001b[1;33m*\u001b[0m\u001b[1;33m(\u001b[0m\u001b[0mu\u001b[0m\u001b[1;33m/\u001b[0m\u001b[1;33m(\u001b[0m\u001b[0mn\u001b[0m\u001b[1;33m-\u001b[0m\u001b[1;36m1\u001b[0m\u001b[1;33m)\u001b[0m\u001b[1;33m)\u001b[0m\u001b[1;33m-\u001b[0m\u001b[1;36m1\u001b[0m\u001b[1;33m)\u001b[0m\u001b[1;33m,\u001b[0m\u001b[1;36m2\u001b[0m\u001b[1;33m*\u001b[0m\u001b[0mpi\u001b[0m\u001b[1;33m*\u001b[0m\u001b[1;33m(\u001b[0m\u001b[1;36m2\u001b[0m\u001b[1;33m*\u001b[0m\u001b[1;33m(\u001b[0m\u001b[0mv\u001b[0m\u001b[1;33m/\u001b[0m\u001b[1;33m(\u001b[0m\u001b[0mn\u001b[0m\u001b[1;33m-\u001b[0m\u001b[1;36m1\u001b[0m\u001b[1;33m)\u001b[0m\u001b[1;33m)\u001b[0m\u001b[1;33m-\u001b[0m\u001b[1;36m1\u001b[0m\u001b[1;33m)\u001b[0m\u001b[1;33m)\u001b[0m \u001b[1;32mfor\u001b[0m \u001b[0mu\u001b[0m \u001b[1;32min\u001b[0m \u001b[0mrange\u001b[0m\u001b[1;33m(\u001b[0m\u001b[0mn\u001b[0m\u001b[1;33m)\u001b[0m\u001b[1;33m]\u001b[0m \u001b[1;32mfor\u001b[0m \u001b[0mv\u001b[0m \u001b[1;32min\u001b[0m \u001b[0mrange\u001b[0m\u001b[1;33m(\u001b[0m\u001b[0mn\u001b[0m\u001b[1;33m)\u001b[0m\u001b[1;33m]\u001b[0m\u001b[1;33m)\u001b[0m\u001b[1;33m)\u001b[0m\u001b[1;33m\u001b[0m\u001b[1;33m\u001b[0m\u001b[0m\n\u001b[0m\u001b[0;32m      3\u001b[0m \u001b[0mprint\u001b[0m\u001b[1;33m(\u001b[0m\u001b[1;34m\"_\"\u001b[0m\u001b[1;33m*\u001b[0m\u001b[1;36m50\u001b[0m\u001b[1;33m)\u001b[0m\u001b[1;33m\u001b[0m\u001b[1;33m\u001b[0m\u001b[0m\n\u001b[0;32m      4\u001b[0m \u001b[0mprint\u001b[0m\u001b[1;33m(\u001b[0m\u001b[1;34m\"([(2*pi*(2*(u/(n-1))-1),2*pi*(2*(v/(n-1))-1)) for u in range(n)] for v in range(n))->{}\"\u001b[0m\u001b[1;33m.\u001b[0m\u001b[0mformat\u001b[0m\u001b[1;33m(\u001b[0m\u001b[1;33m(\u001b[0m\u001b[1;33m[\u001b[0m\u001b[1;33m(\u001b[0m\u001b[1;36m2\u001b[0m\u001b[1;33m*\u001b[0m\u001b[0mpi\u001b[0m\u001b[1;33m*\u001b[0m\u001b[1;33m(\u001b[0m\u001b[1;36m2\u001b[0m\u001b[1;33m*\u001b[0m\u001b[1;33m(\u001b[0m\u001b[0mu\u001b[0m\u001b[1;33m/\u001b[0m\u001b[1;33m(\u001b[0m\u001b[0mn\u001b[0m\u001b[1;33m-\u001b[0m\u001b[1;36m1\u001b[0m\u001b[1;33m)\u001b[0m\u001b[1;33m)\u001b[0m\u001b[1;33m-\u001b[0m\u001b[1;36m1\u001b[0m\u001b[1;33m)\u001b[0m\u001b[1;33m,\u001b[0m\u001b[1;36m2\u001b[0m\u001b[1;33m*\u001b[0m\u001b[0mpi\u001b[0m\u001b[1;33m*\u001b[0m\u001b[1;33m(\u001b[0m\u001b[1;36m2\u001b[0m\u001b[1;33m*\u001b[0m\u001b[1;33m(\u001b[0m\u001b[0mv\u001b[0m\u001b[1;33m/\u001b[0m\u001b[1;33m(\u001b[0m\u001b[0mn\u001b[0m\u001b[1;33m-\u001b[0m\u001b[1;36m1\u001b[0m\u001b[1;33m)\u001b[0m\u001b[1;33m)\u001b[0m\u001b[1;33m-\u001b[0m\u001b[1;36m1\u001b[0m\u001b[1;33m)\u001b[0m\u001b[1;33m)\u001b[0m \u001b[1;32mfor\u001b[0m \u001b[0mu\u001b[0m \u001b[1;32min\u001b[0m \u001b[0mrange\u001b[0m\u001b[1;33m(\u001b[0m\u001b[0mn\u001b[0m\u001b[1;33m)\u001b[0m\u001b[1;33m]\u001b[0m \u001b[1;32mfor\u001b[0m \u001b[0mv\u001b[0m \u001b[1;32min\u001b[0m \u001b[0mrange\u001b[0m\u001b[1;33m(\u001b[0m\u001b[0mn\u001b[0m\u001b[1;33m)\u001b[0m\u001b[1;33m)\u001b[0m\u001b[1;33m)\u001b[0m\u001b[1;33m)\u001b[0m\u001b[1;33m\u001b[0m\u001b[1;33m\u001b[0m\u001b[0m\n\u001b[0;32m      5\u001b[0m \u001b[0mgen\u001b[0m\u001b[1;33m=\u001b[0m\u001b[1;33m(\u001b[0m\u001b[1;33m[\u001b[0m\u001b[1;33m(\u001b[0m\u001b[1;36m2\u001b[0m\u001b[1;33m*\u001b[0m\u001b[0mpi\u001b[0m\u001b[1;33m*\u001b[0m\u001b[1;33m(\u001b[0m\u001b[1;36m2\u001b[0m\u001b[1;33m*\u001b[0m\u001b[1;33m(\u001b[0m\u001b[0mu\u001b[0m\u001b[1;33m/\u001b[0m\u001b[1;33m(\u001b[0m\u001b[0mn\u001b[0m\u001b[1;33m-\u001b[0m\u001b[1;36m1\u001b[0m\u001b[1;33m)\u001b[0m\u001b[1;33m)\u001b[0m\u001b[1;33m-\u001b[0m\u001b[1;36m1\u001b[0m\u001b[1;33m)\u001b[0m\u001b[1;33m,\u001b[0m\u001b[1;36m2\u001b[0m\u001b[1;33m*\u001b[0m\u001b[0mpi\u001b[0m\u001b[1;33m*\u001b[0m\u001b[1;33m(\u001b[0m\u001b[1;36m2\u001b[0m\u001b[1;33m*\u001b[0m\u001b[1;33m(\u001b[0m\u001b[0mv\u001b[0m\u001b[1;33m/\u001b[0m\u001b[1;33m(\u001b[0m\u001b[0mn\u001b[0m\u001b[1;33m-\u001b[0m\u001b[1;36m1\u001b[0m\u001b[1;33m)\u001b[0m\u001b[1;33m)\u001b[0m\u001b[1;33m-\u001b[0m\u001b[1;36m1\u001b[0m\u001b[1;33m)\u001b[0m\u001b[1;33m)\u001b[0m \u001b[1;32mfor\u001b[0m \u001b[0mu\u001b[0m \u001b[1;32min\u001b[0m \u001b[0mrange\u001b[0m\u001b[1;33m(\u001b[0m\u001b[0mn\u001b[0m\u001b[1;33m)\u001b[0m\u001b[1;33m]\u001b[0m \u001b[1;32mfor\u001b[0m \u001b[0mv\u001b[0m \u001b[1;32min\u001b[0m \u001b[0mrange\u001b[0m\u001b[1;33m(\u001b[0m\u001b[0mn\u001b[0m\u001b[1;33m)\u001b[0m\u001b[1;33m)\u001b[0m\u001b[1;33m\u001b[0m\u001b[1;33m\u001b[0m\u001b[0m\n",
      "\u001b[1;32m<ipython-input-29-56796ace364b>\u001b[0m in \u001b[0;36m<listcomp>\u001b[1;34m(.0)\u001b[0m\n\u001b[0;32m      1\u001b[0m \u001b[0mn\u001b[0m\u001b[1;33m=\u001b[0m\u001b[1;36m3\u001b[0m\u001b[1;33m\u001b[0m\u001b[1;33m\u001b[0m\u001b[0m\n\u001b[1;32m----> 2\u001b[1;33m \u001b[0mprint\u001b[0m\u001b[1;33m(\u001b[0m\u001b[1;34m\"[[(2*pi*(2*(u/(n-1))-1),2*pi*(2*(v/(n-1))-1)) for u in range(n)] for v in range(n)]->{}\"\u001b[0m\u001b[1;33m.\u001b[0m\u001b[0mformat\u001b[0m\u001b[1;33m(\u001b[0m\u001b[1;33m[\u001b[0m\u001b[1;33m[\u001b[0m\u001b[1;33m(\u001b[0m\u001b[1;36m2\u001b[0m\u001b[1;33m*\u001b[0m\u001b[0mpi\u001b[0m\u001b[1;33m*\u001b[0m\u001b[1;33m(\u001b[0m\u001b[1;36m2\u001b[0m\u001b[1;33m*\u001b[0m\u001b[1;33m(\u001b[0m\u001b[0mu\u001b[0m\u001b[1;33m/\u001b[0m\u001b[1;33m(\u001b[0m\u001b[0mn\u001b[0m\u001b[1;33m-\u001b[0m\u001b[1;36m1\u001b[0m\u001b[1;33m)\u001b[0m\u001b[1;33m)\u001b[0m\u001b[1;33m-\u001b[0m\u001b[1;36m1\u001b[0m\u001b[1;33m)\u001b[0m\u001b[1;33m,\u001b[0m\u001b[1;36m2\u001b[0m\u001b[1;33m*\u001b[0m\u001b[0mpi\u001b[0m\u001b[1;33m*\u001b[0m\u001b[1;33m(\u001b[0m\u001b[1;36m2\u001b[0m\u001b[1;33m*\u001b[0m\u001b[1;33m(\u001b[0m\u001b[0mv\u001b[0m\u001b[1;33m/\u001b[0m\u001b[1;33m(\u001b[0m\u001b[0mn\u001b[0m\u001b[1;33m-\u001b[0m\u001b[1;36m1\u001b[0m\u001b[1;33m)\u001b[0m\u001b[1;33m)\u001b[0m\u001b[1;33m-\u001b[0m\u001b[1;36m1\u001b[0m\u001b[1;33m)\u001b[0m\u001b[1;33m)\u001b[0m \u001b[1;32mfor\u001b[0m \u001b[0mu\u001b[0m \u001b[1;32min\u001b[0m \u001b[0mrange\u001b[0m\u001b[1;33m(\u001b[0m\u001b[0mn\u001b[0m\u001b[1;33m)\u001b[0m\u001b[1;33m]\u001b[0m \u001b[1;32mfor\u001b[0m \u001b[0mv\u001b[0m \u001b[1;32min\u001b[0m \u001b[0mrange\u001b[0m\u001b[1;33m(\u001b[0m\u001b[0mn\u001b[0m\u001b[1;33m)\u001b[0m\u001b[1;33m]\u001b[0m\u001b[1;33m)\u001b[0m\u001b[1;33m)\u001b[0m\u001b[1;33m\u001b[0m\u001b[1;33m\u001b[0m\u001b[0m\n\u001b[0m\u001b[0;32m      3\u001b[0m \u001b[0mprint\u001b[0m\u001b[1;33m(\u001b[0m\u001b[1;34m\"_\"\u001b[0m\u001b[1;33m*\u001b[0m\u001b[1;36m50\u001b[0m\u001b[1;33m)\u001b[0m\u001b[1;33m\u001b[0m\u001b[1;33m\u001b[0m\u001b[0m\n\u001b[0;32m      4\u001b[0m \u001b[0mprint\u001b[0m\u001b[1;33m(\u001b[0m\u001b[1;34m\"([(2*pi*(2*(u/(n-1))-1),2*pi*(2*(v/(n-1))-1)) for u in range(n)] for v in range(n))->{}\"\u001b[0m\u001b[1;33m.\u001b[0m\u001b[0mformat\u001b[0m\u001b[1;33m(\u001b[0m\u001b[1;33m(\u001b[0m\u001b[1;33m[\u001b[0m\u001b[1;33m(\u001b[0m\u001b[1;36m2\u001b[0m\u001b[1;33m*\u001b[0m\u001b[0mpi\u001b[0m\u001b[1;33m*\u001b[0m\u001b[1;33m(\u001b[0m\u001b[1;36m2\u001b[0m\u001b[1;33m*\u001b[0m\u001b[1;33m(\u001b[0m\u001b[0mu\u001b[0m\u001b[1;33m/\u001b[0m\u001b[1;33m(\u001b[0m\u001b[0mn\u001b[0m\u001b[1;33m-\u001b[0m\u001b[1;36m1\u001b[0m\u001b[1;33m)\u001b[0m\u001b[1;33m)\u001b[0m\u001b[1;33m-\u001b[0m\u001b[1;36m1\u001b[0m\u001b[1;33m)\u001b[0m\u001b[1;33m,\u001b[0m\u001b[1;36m2\u001b[0m\u001b[1;33m*\u001b[0m\u001b[0mpi\u001b[0m\u001b[1;33m*\u001b[0m\u001b[1;33m(\u001b[0m\u001b[1;36m2\u001b[0m\u001b[1;33m*\u001b[0m\u001b[1;33m(\u001b[0m\u001b[0mv\u001b[0m\u001b[1;33m/\u001b[0m\u001b[1;33m(\u001b[0m\u001b[0mn\u001b[0m\u001b[1;33m-\u001b[0m\u001b[1;36m1\u001b[0m\u001b[1;33m)\u001b[0m\u001b[1;33m)\u001b[0m\u001b[1;33m-\u001b[0m\u001b[1;36m1\u001b[0m\u001b[1;33m)\u001b[0m\u001b[1;33m)\u001b[0m \u001b[1;32mfor\u001b[0m \u001b[0mu\u001b[0m \u001b[1;32min\u001b[0m \u001b[0mrange\u001b[0m\u001b[1;33m(\u001b[0m\u001b[0mn\u001b[0m\u001b[1;33m)\u001b[0m\u001b[1;33m]\u001b[0m \u001b[1;32mfor\u001b[0m \u001b[0mv\u001b[0m \u001b[1;32min\u001b[0m \u001b[0mrange\u001b[0m\u001b[1;33m(\u001b[0m\u001b[0mn\u001b[0m\u001b[1;33m)\u001b[0m\u001b[1;33m)\u001b[0m\u001b[1;33m)\u001b[0m\u001b[1;33m)\u001b[0m\u001b[1;33m\u001b[0m\u001b[1;33m\u001b[0m\u001b[0m\n\u001b[0;32m      5\u001b[0m \u001b[0mgen\u001b[0m\u001b[1;33m=\u001b[0m\u001b[1;33m(\u001b[0m\u001b[1;33m[\u001b[0m\u001b[1;33m(\u001b[0m\u001b[1;36m2\u001b[0m\u001b[1;33m*\u001b[0m\u001b[0mpi\u001b[0m\u001b[1;33m*\u001b[0m\u001b[1;33m(\u001b[0m\u001b[1;36m2\u001b[0m\u001b[1;33m*\u001b[0m\u001b[1;33m(\u001b[0m\u001b[0mu\u001b[0m\u001b[1;33m/\u001b[0m\u001b[1;33m(\u001b[0m\u001b[0mn\u001b[0m\u001b[1;33m-\u001b[0m\u001b[1;36m1\u001b[0m\u001b[1;33m)\u001b[0m\u001b[1;33m)\u001b[0m\u001b[1;33m-\u001b[0m\u001b[1;36m1\u001b[0m\u001b[1;33m)\u001b[0m\u001b[1;33m,\u001b[0m\u001b[1;36m2\u001b[0m\u001b[1;33m*\u001b[0m\u001b[0mpi\u001b[0m\u001b[1;33m*\u001b[0m\u001b[1;33m(\u001b[0m\u001b[1;36m2\u001b[0m\u001b[1;33m*\u001b[0m\u001b[1;33m(\u001b[0m\u001b[0mv\u001b[0m\u001b[1;33m/\u001b[0m\u001b[1;33m(\u001b[0m\u001b[0mn\u001b[0m\u001b[1;33m-\u001b[0m\u001b[1;36m1\u001b[0m\u001b[1;33m)\u001b[0m\u001b[1;33m)\u001b[0m\u001b[1;33m-\u001b[0m\u001b[1;36m1\u001b[0m\u001b[1;33m)\u001b[0m\u001b[1;33m)\u001b[0m \u001b[1;32mfor\u001b[0m \u001b[0mu\u001b[0m \u001b[1;32min\u001b[0m \u001b[0mrange\u001b[0m\u001b[1;33m(\u001b[0m\u001b[0mn\u001b[0m\u001b[1;33m)\u001b[0m\u001b[1;33m]\u001b[0m \u001b[1;32mfor\u001b[0m \u001b[0mv\u001b[0m \u001b[1;32min\u001b[0m \u001b[0mrange\u001b[0m\u001b[1;33m(\u001b[0m\u001b[0mn\u001b[0m\u001b[1;33m)\u001b[0m\u001b[1;33m)\u001b[0m\u001b[1;33m\u001b[0m\u001b[1;33m\u001b[0m\u001b[0m\n",
      "\u001b[1;32m<ipython-input-29-56796ace364b>\u001b[0m in \u001b[0;36m<listcomp>\u001b[1;34m(.0)\u001b[0m\n\u001b[0;32m      1\u001b[0m \u001b[0mn\u001b[0m\u001b[1;33m=\u001b[0m\u001b[1;36m3\u001b[0m\u001b[1;33m\u001b[0m\u001b[1;33m\u001b[0m\u001b[0m\n\u001b[1;32m----> 2\u001b[1;33m \u001b[0mprint\u001b[0m\u001b[1;33m(\u001b[0m\u001b[1;34m\"[[(2*pi*(2*(u/(n-1))-1),2*pi*(2*(v/(n-1))-1)) for u in range(n)] for v in range(n)]->{}\"\u001b[0m\u001b[1;33m.\u001b[0m\u001b[0mformat\u001b[0m\u001b[1;33m(\u001b[0m\u001b[1;33m[\u001b[0m\u001b[1;33m[\u001b[0m\u001b[1;33m(\u001b[0m\u001b[1;36m2\u001b[0m\u001b[1;33m*\u001b[0m\u001b[0mpi\u001b[0m\u001b[1;33m*\u001b[0m\u001b[1;33m(\u001b[0m\u001b[1;36m2\u001b[0m\u001b[1;33m*\u001b[0m\u001b[1;33m(\u001b[0m\u001b[0mu\u001b[0m\u001b[1;33m/\u001b[0m\u001b[1;33m(\u001b[0m\u001b[0mn\u001b[0m\u001b[1;33m-\u001b[0m\u001b[1;36m1\u001b[0m\u001b[1;33m)\u001b[0m\u001b[1;33m)\u001b[0m\u001b[1;33m-\u001b[0m\u001b[1;36m1\u001b[0m\u001b[1;33m)\u001b[0m\u001b[1;33m,\u001b[0m\u001b[1;36m2\u001b[0m\u001b[1;33m*\u001b[0m\u001b[0mpi\u001b[0m\u001b[1;33m*\u001b[0m\u001b[1;33m(\u001b[0m\u001b[1;36m2\u001b[0m\u001b[1;33m*\u001b[0m\u001b[1;33m(\u001b[0m\u001b[0mv\u001b[0m\u001b[1;33m/\u001b[0m\u001b[1;33m(\u001b[0m\u001b[0mn\u001b[0m\u001b[1;33m-\u001b[0m\u001b[1;36m1\u001b[0m\u001b[1;33m)\u001b[0m\u001b[1;33m)\u001b[0m\u001b[1;33m-\u001b[0m\u001b[1;36m1\u001b[0m\u001b[1;33m)\u001b[0m\u001b[1;33m)\u001b[0m \u001b[1;32mfor\u001b[0m \u001b[0mu\u001b[0m \u001b[1;32min\u001b[0m \u001b[0mrange\u001b[0m\u001b[1;33m(\u001b[0m\u001b[0mn\u001b[0m\u001b[1;33m)\u001b[0m\u001b[1;33m]\u001b[0m \u001b[1;32mfor\u001b[0m \u001b[0mv\u001b[0m \u001b[1;32min\u001b[0m \u001b[0mrange\u001b[0m\u001b[1;33m(\u001b[0m\u001b[0mn\u001b[0m\u001b[1;33m)\u001b[0m\u001b[1;33m]\u001b[0m\u001b[1;33m)\u001b[0m\u001b[1;33m)\u001b[0m\u001b[1;33m\u001b[0m\u001b[1;33m\u001b[0m\u001b[0m\n\u001b[0m\u001b[0;32m      3\u001b[0m \u001b[0mprint\u001b[0m\u001b[1;33m(\u001b[0m\u001b[1;34m\"_\"\u001b[0m\u001b[1;33m*\u001b[0m\u001b[1;36m50\u001b[0m\u001b[1;33m)\u001b[0m\u001b[1;33m\u001b[0m\u001b[1;33m\u001b[0m\u001b[0m\n\u001b[0;32m      4\u001b[0m \u001b[0mprint\u001b[0m\u001b[1;33m(\u001b[0m\u001b[1;34m\"([(2*pi*(2*(u/(n-1))-1),2*pi*(2*(v/(n-1))-1)) for u in range(n)] for v in range(n))->{}\"\u001b[0m\u001b[1;33m.\u001b[0m\u001b[0mformat\u001b[0m\u001b[1;33m(\u001b[0m\u001b[1;33m(\u001b[0m\u001b[1;33m[\u001b[0m\u001b[1;33m(\u001b[0m\u001b[1;36m2\u001b[0m\u001b[1;33m*\u001b[0m\u001b[0mpi\u001b[0m\u001b[1;33m*\u001b[0m\u001b[1;33m(\u001b[0m\u001b[1;36m2\u001b[0m\u001b[1;33m*\u001b[0m\u001b[1;33m(\u001b[0m\u001b[0mu\u001b[0m\u001b[1;33m/\u001b[0m\u001b[1;33m(\u001b[0m\u001b[0mn\u001b[0m\u001b[1;33m-\u001b[0m\u001b[1;36m1\u001b[0m\u001b[1;33m)\u001b[0m\u001b[1;33m)\u001b[0m\u001b[1;33m-\u001b[0m\u001b[1;36m1\u001b[0m\u001b[1;33m)\u001b[0m\u001b[1;33m,\u001b[0m\u001b[1;36m2\u001b[0m\u001b[1;33m*\u001b[0m\u001b[0mpi\u001b[0m\u001b[1;33m*\u001b[0m\u001b[1;33m(\u001b[0m\u001b[1;36m2\u001b[0m\u001b[1;33m*\u001b[0m\u001b[1;33m(\u001b[0m\u001b[0mv\u001b[0m\u001b[1;33m/\u001b[0m\u001b[1;33m(\u001b[0m\u001b[0mn\u001b[0m\u001b[1;33m-\u001b[0m\u001b[1;36m1\u001b[0m\u001b[1;33m)\u001b[0m\u001b[1;33m)\u001b[0m\u001b[1;33m-\u001b[0m\u001b[1;36m1\u001b[0m\u001b[1;33m)\u001b[0m\u001b[1;33m)\u001b[0m \u001b[1;32mfor\u001b[0m \u001b[0mu\u001b[0m \u001b[1;32min\u001b[0m \u001b[0mrange\u001b[0m\u001b[1;33m(\u001b[0m\u001b[0mn\u001b[0m\u001b[1;33m)\u001b[0m\u001b[1;33m]\u001b[0m \u001b[1;32mfor\u001b[0m \u001b[0mv\u001b[0m \u001b[1;32min\u001b[0m \u001b[0mrange\u001b[0m\u001b[1;33m(\u001b[0m\u001b[0mn\u001b[0m\u001b[1;33m)\u001b[0m\u001b[1;33m)\u001b[0m\u001b[1;33m)\u001b[0m\u001b[1;33m)\u001b[0m\u001b[1;33m\u001b[0m\u001b[1;33m\u001b[0m\u001b[0m\n\u001b[0;32m      5\u001b[0m \u001b[0mgen\u001b[0m\u001b[1;33m=\u001b[0m\u001b[1;33m(\u001b[0m\u001b[1;33m[\u001b[0m\u001b[1;33m(\u001b[0m\u001b[1;36m2\u001b[0m\u001b[1;33m*\u001b[0m\u001b[0mpi\u001b[0m\u001b[1;33m*\u001b[0m\u001b[1;33m(\u001b[0m\u001b[1;36m2\u001b[0m\u001b[1;33m*\u001b[0m\u001b[1;33m(\u001b[0m\u001b[0mu\u001b[0m\u001b[1;33m/\u001b[0m\u001b[1;33m(\u001b[0m\u001b[0mn\u001b[0m\u001b[1;33m-\u001b[0m\u001b[1;36m1\u001b[0m\u001b[1;33m)\u001b[0m\u001b[1;33m)\u001b[0m\u001b[1;33m-\u001b[0m\u001b[1;36m1\u001b[0m\u001b[1;33m)\u001b[0m\u001b[1;33m,\u001b[0m\u001b[1;36m2\u001b[0m\u001b[1;33m*\u001b[0m\u001b[0mpi\u001b[0m\u001b[1;33m*\u001b[0m\u001b[1;33m(\u001b[0m\u001b[1;36m2\u001b[0m\u001b[1;33m*\u001b[0m\u001b[1;33m(\u001b[0m\u001b[0mv\u001b[0m\u001b[1;33m/\u001b[0m\u001b[1;33m(\u001b[0m\u001b[0mn\u001b[0m\u001b[1;33m-\u001b[0m\u001b[1;36m1\u001b[0m\u001b[1;33m)\u001b[0m\u001b[1;33m)\u001b[0m\u001b[1;33m-\u001b[0m\u001b[1;36m1\u001b[0m\u001b[1;33m)\u001b[0m\u001b[1;33m)\u001b[0m \u001b[1;32mfor\u001b[0m \u001b[0mu\u001b[0m \u001b[1;32min\u001b[0m \u001b[0mrange\u001b[0m\u001b[1;33m(\u001b[0m\u001b[0mn\u001b[0m\u001b[1;33m)\u001b[0m\u001b[1;33m]\u001b[0m \u001b[1;32mfor\u001b[0m \u001b[0mv\u001b[0m \u001b[1;32min\u001b[0m \u001b[0mrange\u001b[0m\u001b[1;33m(\u001b[0m\u001b[0mn\u001b[0m\u001b[1;33m)\u001b[0m\u001b[1;33m)\u001b[0m\u001b[1;33m\u001b[0m\u001b[1;33m\u001b[0m\u001b[0m\n",
      "\u001b[1;31mNameError\u001b[0m: name 'pi' is not defined"
     ]
    }
   ],
   "source": [
    "n=3\n",
    "print(\"[[(2*pi*(2*(u/(n-1))-1),2*pi*(2*(v/(n-1))-1)) for u in range(n)] for v in range(n)]->{}\".format([[(2*pi*(2*(u/(n-1))-1),2*pi*(2*(v/(n-1))-1)) for u in range(n)] for v in range(n)]))\n",
    "print(\"_\"*50)\n",
    "print(\"([(2*pi*(2*(u/(n-1))-1),2*pi*(2*(v/(n-1))-1)) for u in range(n)] for v in range(n))->{}\".format(([(2*pi*(2*(u/(n-1))-1),2*pi*(2*(v/(n-1))-1)) for u in range(n)] for v in range(n))))\n",
    "gen=([(2*pi*(2*(u/(n-1))-1),2*pi*(2*(v/(n-1))-1)) for u in range(n)] for v in range(n))\n",
    "print(\"next(gen)->{}\".format(next(gen)))\n",
    "print(\"next(gen)->{}\".format(next(gen)))"
   ]
  },
  {
   "cell_type": "code",
   "execution_count": 30,
   "id": "5d6dc70a",
   "metadata": {},
   "outputs": [
    {
     "name": "stdout",
     "output_type": "stream",
     "text": [
      "f_convert_a('3.1415')->3.1415\n",
      "f_convert_a('string')->string\n",
      "f_convert_a(3,6,7)->(3, 6, 7)\n"
     ]
    }
   ],
   "source": [
    "def f_convert_a(x):#python提供了两个非常重要的功能来处理python程序在运行中出现的异常和错误。你可以使用该功能来调试python程序\n",
    "    try:\n",
    "        return float(x)\n",
    "    except:\n",
    "        return x\n",
    "print(\"f_convert_a('3.1415')->{}\".format(f_convert_a('3.1415')))    \n",
    "print(\"f_convert_a('string')->{}\".format(f_convert_a('string')))  \n",
    "print(\"f_convert_a(3,6,7)->{}\".format(f_convert_a((3,6,7))))  "
   ]
  },
  {
   "cell_type": "code",
   "execution_count": 31,
   "id": "5efd60ed",
   "metadata": {},
   "outputs": [
    {
     "name": "stdout",
     "output_type": "stream",
     "text": [
      "f_convert_c('3.1415')->3.1415\n",
      "f_convert_c('string')->string\n",
      "(3, 6, 7) TypeError\n",
      "f_convert_c(3,6,7)->None\n"
     ]
    }
   ],
   "source": [
    "def f_convert_c(x):\n",
    "    try:\n",
    "        return float(x)\n",
    "    except ValueError:\n",
    "        return x\n",
    "    except TypeError:\n",
    "        print(x,'TypeError')\n",
    "print(\"f_convert_c('3.1415')->{}\".format(f_convert_c('3.1415')))    \n",
    "print(\"f_convert_c('string')->{}\".format(f_convert_c('string')))  \n",
    "print(\"f_convert_c(3,6,7)->{}\".format(f_convert_c((3,6,7))))  "
   ]
  },
  {
   "cell_type": "code",
   "execution_count": 32,
   "id": "8a90f77e",
   "metadata": {},
   "outputs": [
    {
     "name": "stdout",
     "output_type": "stream",
     "text": [
      "Unable to open ./data/tryException.txt :[Errno 2] No such file or directory: './data/tryException.txt'\n",
      "\n",
      "done!\n"
     ]
    }
   ],
   "source": [
    "def f_open_b(fp):#finally语句为try代码块中的代码定义了结束操作，finally子句不是用于捕捉错误，而是提供一些程序代码，无论程序是否出错误都需要执行该代码。\n",
    "    try:\n",
    "        f=open(fp,'r')\n",
    "    except IOError as e:\n",
    "        print('Unable to open',fp,':%s\\n' %e)\n",
    "    else:\n",
    "        data=f.read()\n",
    "        f.close()\n",
    "        return data\n",
    "    finally:\n",
    "        print('done!')\n",
    "f_open_b(\"./data/tryException.txt\")    "
   ]
  },
  {
   "cell_type": "code",
   "execution_count": 33,
   "id": "e2a12ad3",
   "metadata": {},
   "outputs": [
    {
     "ename": "Exception",
     "evalue": "",
     "output_type": "error",
     "traceback": [
      "\u001b[1;31m---------------------------------------------------------------------------\u001b[0m",
      "\u001b[1;31mException\u001b[0m                                 Traceback (most recent call last)",
      "\u001b[1;32m<ipython-input-33-2aee0157c87b>\u001b[0m in \u001b[0;36m<module>\u001b[1;34m\u001b[0m\n\u001b[1;32m----> 1\u001b[1;33m \u001b[1;32mraise\u001b[0m \u001b[0mException\u001b[0m\u001b[1;33m\u001b[0m\u001b[1;33m\u001b[0m\u001b[0m\n\u001b[0m",
      "\u001b[1;31mException\u001b[0m: "
     ]
    }
   ],
   "source": [
    "raise Exception#语句中Exception是异常的类型（例如ValueError），参数是一个异常参数值。该参数是可选的，如果不提供，异常的参数是\"None\"。最后一个参数是跟踪异常对象，也是可选的（在实践中很少使用"
   ]
  },
  {
   "cell_type": "code",
   "execution_count": 34,
   "id": "935784c9",
   "metadata": {},
   "outputs": [
    {
     "ename": "Exception",
     "evalue": "Computer says no!",
     "output_type": "error",
     "traceback": [
      "\u001b[1;31m---------------------------------------------------------------------------\u001b[0m",
      "\u001b[1;31mException\u001b[0m                                 Traceback (most recent call last)",
      "\u001b[1;32m<ipython-input-34-9adaf43138bd>\u001b[0m in \u001b[0;36m<module>\u001b[1;34m\u001b[0m\n\u001b[1;32m----> 1\u001b[1;33m \u001b[1;32mraise\u001b[0m \u001b[0mException\u001b[0m\u001b[1;33m(\u001b[0m\u001b[1;34m'Computer says no!'\u001b[0m\u001b[1;33m)\u001b[0m \u001b[1;31m#添加错误信息的异常\u001b[0m\u001b[1;33m\u001b[0m\u001b[1;33m\u001b[0m\u001b[0m\n\u001b[0m",
      "\u001b[1;31mException\u001b[0m: Computer says no!"
     ]
    }
   ],
   "source": [
    "raise Exception('Computer says no!') #添加错误信息的异常"
   ]
  },
  {
   "cell_type": "code",
   "execution_count": 35,
   "id": "3002cb2a",
   "metadata": {},
   "outputs": [],
   "source": [
    "x=20\n",
    "assert x>0 #为真则不做任何事情"
   ]
  },
  {
   "cell_type": "code",
   "execution_count": null,
   "id": "a184d3eb",
   "metadata": {},
   "outputs": [],
   "source": []
  }
 ],
 "metadata": {
  "kernelspec": {
   "display_name": "Python 3",
   "language": "python",
   "name": "python3"
  },
  "language_info": {
   "codemirror_mode": {
    "name": "ipython",
    "version": 3
   },
   "file_extension": ".py",
   "mimetype": "text/x-python",
   "name": "python",
   "nbconvert_exporter": "python",
   "pygments_lexer": "ipython3",
   "version": "3.8.8"
  }
 },
 "nbformat": 4,
 "nbformat_minor": 5
}
